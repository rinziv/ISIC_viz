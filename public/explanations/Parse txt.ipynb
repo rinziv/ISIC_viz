{
 "cells": [
  {
   "cell_type": "code",
   "execution_count": 115,
   "metadata": {},
   "outputs": [],
   "source": [
    "import os\n",
    "import re\n",
    "import json\n",
    "\n",
    "from collections import Counter"
   ]
  },
  {
   "cell_type": "code",
   "execution_count": 110,
   "metadata": {},
   "outputs": [],
   "source": [
    "dirList=[name for name in os.listdir(\".\") if os.path.isdir(name)]"
   ]
  },
  {
   "cell_type": "code",
   "execution_count": 111,
   "metadata": {},
   "outputs": [
    {
     "data": {
      "text/plain": [
       "['Ex_1140', 'Ex_2927']"
      ]
     },
     "execution_count": 111,
     "metadata": {},
     "output_type": "execute_result"
    }
   ],
   "source": [
    "try:\n",
    "    dirList.remove('.ipynb_checkpoints')\n",
    "except AttributeError:\n",
    "    print('.ipynb_checkpoints not found')\n",
    "dirList"
   ]
  },
  {
   "cell_type": "code",
   "execution_count": 112,
   "metadata": {},
   "outputs": [],
   "source": [
    "## Example\n",
    "obj= {\n",
    "    \"id\": 2927,\n",
    "    \"class\":5,\n",
    "    \"counter_class\": 1,\n",
    "    \"neighborhood\": {\"0\": 2, \"1\": 117, \"2\": 41, \"3\": 10, \"5\": 61, \"6\": 19}\n",
    "  }"
   ]
  },
  {
   "cell_type": "code",
   "execution_count": 130,
   "metadata": {},
   "outputs": [
    {
     "data": {
      "text/plain": [
       "[{'id': '1140',\n",
       "  'class': '1',\n",
       "  'counter_class': 1,\n",
       "  'neighborhood': {'1': 41, '2': 18, '3': 4, '5': 26, '6': 11}},\n",
       " {'id': '2927',\n",
       "  'class': '5',\n",
       "  'counter_class': 3,\n",
       "  'neighborhood': {'0': 2, '1': 117, '2': 41, '3': 10, '5': 61, '6': 19}}]"
      ]
     },
     "execution_count": 130,
     "metadata": {},
     "output_type": "execute_result"
    }
   ],
   "source": [
    "instances=[]\n",
    "for dir in dirList:\n",
    "    path_to_file=f\"{dir}/{dir}.txt\"\n",
    "    obj={}\n",
    "    with open(path_to_file) as f:\n",
    "        contents = f.readlines()\n",
    "        id=dir.lstrip('Ex_')\n",
    "        \n",
    "        obj['id']=id\n",
    "        obj['class']=contents[15][1]\n",
    "        \n",
    "        cClasses=[]\n",
    "        cs=contents[12].split(',')\n",
    "        for c in cs:\n",
    "            try:\n",
    "                found = re.search('--> { class: (.+?) }', c).group(1)\n",
    "                cClasses.append(found)\n",
    "            except AttributeError:\n",
    "                found = '' \n",
    "        majClass=max(Counter(cClasses).values()) # Count majority in Counter Class\n",
    "        obj['counter_class']=majClass\n",
    "                \n",
    "        neighborhood=contents[7]\n",
    "        neighborhood=neighborhood.replace('synthetic neighborhood class counts ','').replace('\\n','').replace(\"'\",'\"')\n",
    "        neighborhood=json.loads(neighborhood)\n",
    "        obj['neighborhood']=neighborhood\n",
    "\n",
    "        instances.append(obj)\n",
    "instances"
   ]
  },
  {
   "cell_type": "code",
   "execution_count": 131,
   "metadata": {},
   "outputs": [],
   "source": [
    "with open('instances.json', 'w') as outfile:\n",
    "    json.dump(instances, outfile)"
   ]
  }
 ],
 "metadata": {
  "kernelspec": {
   "display_name": "Python 3",
   "language": "python",
   "name": "python3"
  },
  "language_info": {
   "codemirror_mode": {
    "name": "ipython",
    "version": 3
   },
   "file_extension": ".py",
   "mimetype": "text/x-python",
   "name": "python",
   "nbconvert_exporter": "python",
   "pygments_lexer": "ipython3",
   "version": "3.7.4"
  }
 },
 "nbformat": 4,
 "nbformat_minor": 2
}
